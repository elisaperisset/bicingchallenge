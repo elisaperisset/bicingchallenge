{
  "nbformat": 4,
  "nbformat_minor": 0,
  "metadata": {
    "colab": {
      "name": "00-BicingChallenge.ipynb",
      "provenance": [],
      "authorship_tag": "ABX9TyMgz/3G3SvA5DYNm73ii4oq",
      "include_colab_link": true
    },
    "kernelspec": {
      "name": "python3",
      "display_name": "Python 3"
    },
    "language_info": {
      "name": "python"
    }
  },
  "cells": [
    {
      "cell_type": "markdown",
      "metadata": {
        "id": "view-in-github",
        "colab_type": "text"
      },
      "source": [
        "<a href=\"https://colab.research.google.com/github/elisaperisset/bicingchallenge/blob/main/00_BicingChallenge.ipynb\" target=\"_parent\"><img src=\"https://colab.research.google.com/assets/colab-badge.svg\" alt=\"Open In Colab\"/></a>"
      ]
    },
    {
      "cell_type": "code",
      "metadata": {
        "id": "KvTznp5YRgNu",
        "colab": {
          "base_uri": "https://localhost:8080/"
        },
        "outputId": "9a72192f-4e8c-48b2-e40a-808395efa8d0"
      },
      "source": [
        "import numpy as np\n",
        "import pandas as pd\n",
        "import os\n",
        "from google.colab import drive \n",
        "drive.mount('/content/gdrive')"
      ],
      "execution_count": 23,
      "outputs": [
        {
          "output_type": "stream",
          "text": [
            "Drive already mounted at /content/gdrive; to attempt to forcibly remount, call drive.mount(\"/content/gdrive\", force_remount=True).\n"
          ],
          "name": "stdout"
        }
      ]
    },
    {
      "cell_type": "code",
      "metadata": {
        "colab": {
          "base_uri": "https://localhost:8080/",
          "height": 204
        },
        "id": "YhGlhTS6Rle9",
        "outputId": "9bbeeac9-2547-404a-e7c6-6426a165c6cc"
      },
      "source": [
        "bikes = pd.read_csv('gdrive/My Drive/Colab Notebooks/BicingChallenge/Datasets/2019_01_Gener_BICING_US.csv')\n",
        "bikes.head()\n",
        "# Later I realized I could have parsed the data during the import, using the parse_dates and infer_datetime_format:\n",
        "# bUsage2001 = pd.read_csv('gdrive/My Drive/Colab Notebooks/BicingChallenge/Datasets/2019_01_Gener_BICING_US.csv', parse_dates=[4], infer_datetime_format=True)"
      ],
      "execution_count": 24,
      "outputs": [
        {
          "output_type": "execute_result",
          "data": {
            "text/html": [
              "<div>\n",
              "<style scoped>\n",
              "    .dataframe tbody tr th:only-of-type {\n",
              "        vertical-align: middle;\n",
              "    }\n",
              "\n",
              "    .dataframe tbody tr th {\n",
              "        vertical-align: top;\n",
              "    }\n",
              "\n",
              "    .dataframe thead th {\n",
              "        text-align: right;\n",
              "    }\n",
              "</style>\n",
              "<table border=\"1\" class=\"dataframe\">\n",
              "  <thead>\n",
              "    <tr style=\"text-align: right;\">\n",
              "      <th></th>\n",
              "      <th>error</th>\n",
              "      <th>bikesInUsage</th>\n",
              "      <th>electricalBikesInUsage</th>\n",
              "      <th>mechanicalBikesInUsage</th>\n",
              "      <th>dateTime</th>\n",
              "    </tr>\n",
              "  </thead>\n",
              "  <tbody>\n",
              "    <tr>\n",
              "      <th>0</th>\n",
              "      <td>0</td>\n",
              "      <td>50</td>\n",
              "      <td>0</td>\n",
              "      <td>50</td>\n",
              "      <td>2019-01-01 00:00:11</td>\n",
              "    </tr>\n",
              "    <tr>\n",
              "      <th>1</th>\n",
              "      <td>0</td>\n",
              "      <td>47</td>\n",
              "      <td>0</td>\n",
              "      <td>47</td>\n",
              "      <td>2019-01-01 00:05:12</td>\n",
              "    </tr>\n",
              "    <tr>\n",
              "      <th>2</th>\n",
              "      <td>0</td>\n",
              "      <td>50</td>\n",
              "      <td>0</td>\n",
              "      <td>50</td>\n",
              "      <td>2019-01-01 00:10:12</td>\n",
              "    </tr>\n",
              "    <tr>\n",
              "      <th>3</th>\n",
              "      <td>0</td>\n",
              "      <td>76</td>\n",
              "      <td>0</td>\n",
              "      <td>76</td>\n",
              "      <td>2019-01-01 00:15:12</td>\n",
              "    </tr>\n",
              "    <tr>\n",
              "      <th>4</th>\n",
              "      <td>0</td>\n",
              "      <td>119</td>\n",
              "      <td>0</td>\n",
              "      <td>119</td>\n",
              "      <td>2019-01-01 00:20:12</td>\n",
              "    </tr>\n",
              "  </tbody>\n",
              "</table>\n",
              "</div>"
            ],
            "text/plain": [
              "   error  bikesInUsage  ...  mechanicalBikesInUsage             dateTime\n",
              "0      0            50  ...                      50  2019-01-01 00:00:11\n",
              "1      0            47  ...                      47  2019-01-01 00:05:12\n",
              "2      0            50  ...                      50  2019-01-01 00:10:12\n",
              "3      0            76  ...                      76  2019-01-01 00:15:12\n",
              "4      0           119  ...                     119  2019-01-01 00:20:12\n",
              "\n",
              "[5 rows x 5 columns]"
            ]
          },
          "metadata": {
            "tags": []
          },
          "execution_count": 24
        }
      ]
    },
    {
      "cell_type": "markdown",
      "metadata": {
        "id": "Gzfx3K8CYHu5"
      },
      "source": [
        "In the following cells I will be using Pandas functions to have a better grasp on the data The following are:\n",
        "\n",
        "df.head() --> Returns the first n rows for the dataframe df, if no value is set, n defaults to 5.\n",
        "df.info() --> Returns a concise summary of the dataframe df including total record count, total column count, for each column, count of null and non-null, and Dtype.\n",
        "df.shape --> Returns a tuple representing the dimensionality of the DataFrame df: (#rows, #columns).\n",
        "df.describe() --> Returns for all numeric and object columns descriptive statistics including: count, mean, std, min, 25%, 50%, 75%, max."
      ]
    },
    {
      "cell_type": "code",
      "metadata": {
        "id": "AY2Txi08RqLM",
        "colab": {
          "base_uri": "https://localhost:8080/"
        },
        "outputId": "63b2fbd2-bf4a-4151-8601-3249f7ed55cd"
      },
      "source": [
        "bikes.info()"
      ],
      "execution_count": 25,
      "outputs": [
        {
          "output_type": "stream",
          "text": [
            "<class 'pandas.core.frame.DataFrame'>\n",
            "RangeIndex: 8055 entries, 0 to 8054\n",
            "Data columns (total 5 columns):\n",
            " #   Column                  Non-Null Count  Dtype \n",
            "---  ------                  --------------  ----- \n",
            " 0   error                   8055 non-null   int64 \n",
            " 1   bikesInUsage            8055 non-null   int64 \n",
            " 2   electricalBikesInUsage  8055 non-null   int64 \n",
            " 3   mechanicalBikesInUsage  8055 non-null   int64 \n",
            " 4   dateTime                8055 non-null   object\n",
            "dtypes: int64(4), object(1)\n",
            "memory usage: 314.8+ KB\n"
          ],
          "name": "stdout"
        }
      ]
    },
    {
      "cell_type": "code",
      "metadata": {
        "id": "bVFmjegbRnqD",
        "colab": {
          "base_uri": "https://localhost:8080/"
        },
        "outputId": "a40bb069-b4db-425b-cdfd-70dfaf6d616f"
      },
      "source": [
        "bikes.shape"
      ],
      "execution_count": 26,
      "outputs": [
        {
          "output_type": "execute_result",
          "data": {
            "text/plain": [
              "(8055, 5)"
            ]
          },
          "metadata": {
            "tags": []
          },
          "execution_count": 26
        }
      ]
    },
    {
      "cell_type": "code",
      "metadata": {
        "colab": {
          "base_uri": "https://localhost:8080/",
          "height": 297
        },
        "id": "5caff5HZYM2k",
        "outputId": "b9a60e46-4686-4ac6-d531-dfa15388ffa1"
      },
      "source": [
        "bikes.describe()"
      ],
      "execution_count": 27,
      "outputs": [
        {
          "output_type": "execute_result",
          "data": {
            "text/html": [
              "<div>\n",
              "<style scoped>\n",
              "    .dataframe tbody tr th:only-of-type {\n",
              "        vertical-align: middle;\n",
              "    }\n",
              "\n",
              "    .dataframe tbody tr th {\n",
              "        vertical-align: top;\n",
              "    }\n",
              "\n",
              "    .dataframe thead th {\n",
              "        text-align: right;\n",
              "    }\n",
              "</style>\n",
              "<table border=\"1\" class=\"dataframe\">\n",
              "  <thead>\n",
              "    <tr style=\"text-align: right;\">\n",
              "      <th></th>\n",
              "      <th>error</th>\n",
              "      <th>bikesInUsage</th>\n",
              "      <th>electricalBikesInUsage</th>\n",
              "      <th>mechanicalBikesInUsage</th>\n",
              "    </tr>\n",
              "  </thead>\n",
              "  <tbody>\n",
              "    <tr>\n",
              "      <th>count</th>\n",
              "      <td>8055.0</td>\n",
              "      <td>8055.000000</td>\n",
              "      <td>8055.000000</td>\n",
              "      <td>8055.000000</td>\n",
              "    </tr>\n",
              "    <tr>\n",
              "      <th>mean</th>\n",
              "      <td>0.0</td>\n",
              "      <td>235.891372</td>\n",
              "      <td>2.716449</td>\n",
              "      <td>233.174922</td>\n",
              "    </tr>\n",
              "    <tr>\n",
              "      <th>std</th>\n",
              "      <td>0.0</td>\n",
              "      <td>177.520787</td>\n",
              "      <td>3.110105</td>\n",
              "      <td>175.077264</td>\n",
              "    </tr>\n",
              "    <tr>\n",
              "      <th>min</th>\n",
              "      <td>0.0</td>\n",
              "      <td>7.000000</td>\n",
              "      <td>0.000000</td>\n",
              "      <td>6.000000</td>\n",
              "    </tr>\n",
              "    <tr>\n",
              "      <th>25%</th>\n",
              "      <td>0.0</td>\n",
              "      <td>79.500000</td>\n",
              "      <td>1.000000</td>\n",
              "      <td>79.000000</td>\n",
              "    </tr>\n",
              "    <tr>\n",
              "      <th>50%</th>\n",
              "      <td>0.0</td>\n",
              "      <td>211.000000</td>\n",
              "      <td>2.000000</td>\n",
              "      <td>209.000000</td>\n",
              "    </tr>\n",
              "    <tr>\n",
              "      <th>75%</th>\n",
              "      <td>0.0</td>\n",
              "      <td>352.000000</td>\n",
              "      <td>4.000000</td>\n",
              "      <td>348.000000</td>\n",
              "    </tr>\n",
              "    <tr>\n",
              "      <th>max</th>\n",
              "      <td>0.0</td>\n",
              "      <td>940.000000</td>\n",
              "      <td>23.000000</td>\n",
              "      <td>924.000000</td>\n",
              "    </tr>\n",
              "  </tbody>\n",
              "</table>\n",
              "</div>"
            ],
            "text/plain": [
              "        error  bikesInUsage  electricalBikesInUsage  mechanicalBikesInUsage\n",
              "count  8055.0   8055.000000             8055.000000             8055.000000\n",
              "mean      0.0    235.891372                2.716449              233.174922\n",
              "std       0.0    177.520787                3.110105              175.077264\n",
              "min       0.0      7.000000                0.000000                6.000000\n",
              "25%       0.0     79.500000                1.000000               79.000000\n",
              "50%       0.0    211.000000                2.000000              209.000000\n",
              "75%       0.0    352.000000                4.000000              348.000000\n",
              "max       0.0    940.000000               23.000000              924.000000"
            ]
          },
          "metadata": {
            "tags": []
          },
          "execution_count": 27
        }
      ]
    },
    {
      "cell_type": "code",
      "metadata": {
        "colab": {
          "base_uri": "https://localhost:8080/",
          "height": 204
        },
        "id": "UuoIblSEYN4R",
        "outputId": "547b0508-764c-4174-ca08-fedf23780905"
      },
      "source": [
        "#Find row with max bikes in use\n",
        "maxBikesInUsage=bikes['bikesInUsage'].idxmax()\n",
        "pd.DataFrame(bikes.loc[maxBikesInUsage])"
      ],
      "execution_count": 28,
      "outputs": [
        {
          "output_type": "execute_result",
          "data": {
            "text/html": [
              "<div>\n",
              "<style scoped>\n",
              "    .dataframe tbody tr th:only-of-type {\n",
              "        vertical-align: middle;\n",
              "    }\n",
              "\n",
              "    .dataframe tbody tr th {\n",
              "        vertical-align: top;\n",
              "    }\n",
              "\n",
              "    .dataframe thead th {\n",
              "        text-align: right;\n",
              "    }\n",
              "</style>\n",
              "<table border=\"1\" class=\"dataframe\">\n",
              "  <thead>\n",
              "    <tr style=\"text-align: right;\">\n",
              "      <th></th>\n",
              "      <th>3265</th>\n",
              "    </tr>\n",
              "  </thead>\n",
              "  <tbody>\n",
              "    <tr>\n",
              "      <th>error</th>\n",
              "      <td>0</td>\n",
              "    </tr>\n",
              "    <tr>\n",
              "      <th>bikesInUsage</th>\n",
              "      <td>940</td>\n",
              "    </tr>\n",
              "    <tr>\n",
              "      <th>electricalBikesInUsage</th>\n",
              "      <td>19</td>\n",
              "    </tr>\n",
              "    <tr>\n",
              "      <th>mechanicalBikesInUsage</th>\n",
              "      <td>921</td>\n",
              "    </tr>\n",
              "    <tr>\n",
              "      <th>dateTime</th>\n",
              "      <td>2019-01-15 08:50:16</td>\n",
              "    </tr>\n",
              "  </tbody>\n",
              "</table>\n",
              "</div>"
            ],
            "text/plain": [
              "                                       3265\n",
              "error                                     0\n",
              "bikesInUsage                            940\n",
              "electricalBikesInUsage                   19\n",
              "mechanicalBikesInUsage                  921\n",
              "dateTime                2019-01-15 08:50:16"
            ]
          },
          "metadata": {
            "tags": []
          },
          "execution_count": 28
        }
      ]
    },
    {
      "cell_type": "code",
      "metadata": {
        "colab": {
          "base_uri": "https://localhost:8080/",
          "height": 204
        },
        "id": "KU8tsZRkYPnM",
        "outputId": "644af0c0-fc3e-4212-ab07-7ca95d3558e2"
      },
      "source": [
        "#Find row with min bikes in use\n",
        "minBikesInUsage=bikes['bikesInUsage'].idxmin()\n",
        "pd.DataFrame(bikes.loc[minBikesInUsage])"
      ],
      "execution_count": 29,
      "outputs": [
        {
          "output_type": "execute_result",
          "data": {
            "text/html": [
              "<div>\n",
              "<style scoped>\n",
              "    .dataframe tbody tr th:only-of-type {\n",
              "        vertical-align: middle;\n",
              "    }\n",
              "\n",
              "    .dataframe tbody tr th {\n",
              "        vertical-align: top;\n",
              "    }\n",
              "\n",
              "    .dataframe thead th {\n",
              "        text-align: right;\n",
              "    }\n",
              "</style>\n",
              "<table border=\"1\" class=\"dataframe\">\n",
              "  <thead>\n",
              "    <tr style=\"text-align: right;\">\n",
              "      <th></th>\n",
              "      <th>7222</th>\n",
              "    </tr>\n",
              "  </thead>\n",
              "  <tbody>\n",
              "    <tr>\n",
              "      <th>error</th>\n",
              "      <td>0</td>\n",
              "    </tr>\n",
              "    <tr>\n",
              "      <th>bikesInUsage</th>\n",
              "      <td>7</td>\n",
              "    </tr>\n",
              "    <tr>\n",
              "      <th>electricalBikesInUsage</th>\n",
              "      <td>1</td>\n",
              "    </tr>\n",
              "    <tr>\n",
              "      <th>mechanicalBikesInUsage</th>\n",
              "      <td>6</td>\n",
              "    </tr>\n",
              "    <tr>\n",
              "      <th>dateTime</th>\n",
              "      <td>2019-01-29 02:34:58</td>\n",
              "    </tr>\n",
              "  </tbody>\n",
              "</table>\n",
              "</div>"
            ],
            "text/plain": [
              "                                       7222\n",
              "error                                     0\n",
              "bikesInUsage                              7\n",
              "electricalBikesInUsage                    1\n",
              "mechanicalBikesInUsage                    6\n",
              "dateTime                2019-01-29 02:34:58"
            ]
          },
          "metadata": {
            "tags": []
          },
          "execution_count": 29
        }
      ]
    },
    {
      "cell_type": "code",
      "metadata": {
        "colab": {
          "base_uri": "https://localhost:8080/",
          "height": 289
        },
        "id": "IXIENbWpYRbO",
        "outputId": "0e838029-6f8a-4e4b-e769-da75b0598af4"
      },
      "source": [
        "#Create a new column to change the dateTime from object Dtype to datetime64[ns]\n",
        "bikes['structuredDateTime'] = pd.to_datetime(bikes['dateTime'])\n",
        "bikes.head()"
      ],
      "execution_count": 30,
      "outputs": [
        {
          "output_type": "execute_result",
          "data": {
            "text/html": [
              "<div>\n",
              "<style scoped>\n",
              "    .dataframe tbody tr th:only-of-type {\n",
              "        vertical-align: middle;\n",
              "    }\n",
              "\n",
              "    .dataframe tbody tr th {\n",
              "        vertical-align: top;\n",
              "    }\n",
              "\n",
              "    .dataframe thead th {\n",
              "        text-align: right;\n",
              "    }\n",
              "</style>\n",
              "<table border=\"1\" class=\"dataframe\">\n",
              "  <thead>\n",
              "    <tr style=\"text-align: right;\">\n",
              "      <th></th>\n",
              "      <th>error</th>\n",
              "      <th>bikesInUsage</th>\n",
              "      <th>electricalBikesInUsage</th>\n",
              "      <th>mechanicalBikesInUsage</th>\n",
              "      <th>dateTime</th>\n",
              "      <th>structuredDateTime</th>\n",
              "    </tr>\n",
              "  </thead>\n",
              "  <tbody>\n",
              "    <tr>\n",
              "      <th>0</th>\n",
              "      <td>0</td>\n",
              "      <td>50</td>\n",
              "      <td>0</td>\n",
              "      <td>50</td>\n",
              "      <td>2019-01-01 00:00:11</td>\n",
              "      <td>2019-01-01 00:00:11</td>\n",
              "    </tr>\n",
              "    <tr>\n",
              "      <th>1</th>\n",
              "      <td>0</td>\n",
              "      <td>47</td>\n",
              "      <td>0</td>\n",
              "      <td>47</td>\n",
              "      <td>2019-01-01 00:05:12</td>\n",
              "      <td>2019-01-01 00:05:12</td>\n",
              "    </tr>\n",
              "    <tr>\n",
              "      <th>2</th>\n",
              "      <td>0</td>\n",
              "      <td>50</td>\n",
              "      <td>0</td>\n",
              "      <td>50</td>\n",
              "      <td>2019-01-01 00:10:12</td>\n",
              "      <td>2019-01-01 00:10:12</td>\n",
              "    </tr>\n",
              "    <tr>\n",
              "      <th>3</th>\n",
              "      <td>0</td>\n",
              "      <td>76</td>\n",
              "      <td>0</td>\n",
              "      <td>76</td>\n",
              "      <td>2019-01-01 00:15:12</td>\n",
              "      <td>2019-01-01 00:15:12</td>\n",
              "    </tr>\n",
              "    <tr>\n",
              "      <th>4</th>\n",
              "      <td>0</td>\n",
              "      <td>119</td>\n",
              "      <td>0</td>\n",
              "      <td>119</td>\n",
              "      <td>2019-01-01 00:20:12</td>\n",
              "      <td>2019-01-01 00:20:12</td>\n",
              "    </tr>\n",
              "  </tbody>\n",
              "</table>\n",
              "</div>"
            ],
            "text/plain": [
              "   error  bikesInUsage  ...             dateTime  structuredDateTime\n",
              "0      0            50  ...  2019-01-01 00:00:11 2019-01-01 00:00:11\n",
              "1      0            47  ...  2019-01-01 00:05:12 2019-01-01 00:05:12\n",
              "2      0            50  ...  2019-01-01 00:10:12 2019-01-01 00:10:12\n",
              "3      0            76  ...  2019-01-01 00:15:12 2019-01-01 00:15:12\n",
              "4      0           119  ...  2019-01-01 00:20:12 2019-01-01 00:20:12\n",
              "\n",
              "[5 rows x 6 columns]"
            ]
          },
          "metadata": {
            "tags": []
          },
          "execution_count": 30
        }
      ]
    },
    {
      "cell_type": "code",
      "metadata": {
        "colab": {
          "base_uri": "https://localhost:8080/"
        },
        "id": "IoUMuvUCYSuN",
        "outputId": "400fa3b7-ccb8-471d-dde2-b43e80da1323"
      },
      "source": [
        "bikes.info()"
      ],
      "execution_count": 31,
      "outputs": [
        {
          "output_type": "stream",
          "text": [
            "<class 'pandas.core.frame.DataFrame'>\n",
            "RangeIndex: 8055 entries, 0 to 8054\n",
            "Data columns (total 6 columns):\n",
            " #   Column                  Non-Null Count  Dtype         \n",
            "---  ------                  --------------  -----         \n",
            " 0   error                   8055 non-null   int64         \n",
            " 1   bikesInUsage            8055 non-null   int64         \n",
            " 2   electricalBikesInUsage  8055 non-null   int64         \n",
            " 3   mechanicalBikesInUsage  8055 non-null   int64         \n",
            " 4   dateTime                8055 non-null   object        \n",
            " 5   structuredDateTime      8055 non-null   datetime64[ns]\n",
            "dtypes: datetime64[ns](1), int64(4), object(1)\n",
            "memory usage: 377.7+ KB\n"
          ],
          "name": "stdout"
        }
      ]
    },
    {
      "cell_type": "code",
      "metadata": {
        "colab": {
          "base_uri": "https://localhost:8080/",
          "height": 394
        },
        "id": "gCmUVQhXYT20",
        "outputId": "27e98adb-a696-4f22-eb30-06a10e803a52"
      },
      "source": [
        "#Create columns for date, time, day of week, etc\n",
        "bikes['date'] = bikes['structuredDateTime'].dt.date\n",
        "bikes['weekday'] = bikes['structuredDateTime'].dt.day_name()\n",
        "bikes['year'] = bikes['structuredDateTime'].dt.year\n",
        "bikes['month'] = bikes['structuredDateTime'].dt.month\n",
        "bikes['day'] = bikes['structuredDateTime'].dt.day\n",
        "bikes['time'] = bikes['structuredDateTime'].dt.time\n",
        "bikes['hour'] = bikes['structuredDateTime'].dt.hour\n",
        "bikes['minute'] = bikes['structuredDateTime'].dt.minute\n",
        "bikes['second'] = bikes['structuredDateTime'].dt.second\n",
        "bikes.head()"
      ],
      "execution_count": 32,
      "outputs": [
        {
          "output_type": "execute_result",
          "data": {
            "text/html": [
              "<div>\n",
              "<style scoped>\n",
              "    .dataframe tbody tr th:only-of-type {\n",
              "        vertical-align: middle;\n",
              "    }\n",
              "\n",
              "    .dataframe tbody tr th {\n",
              "        vertical-align: top;\n",
              "    }\n",
              "\n",
              "    .dataframe thead th {\n",
              "        text-align: right;\n",
              "    }\n",
              "</style>\n",
              "<table border=\"1\" class=\"dataframe\">\n",
              "  <thead>\n",
              "    <tr style=\"text-align: right;\">\n",
              "      <th></th>\n",
              "      <th>error</th>\n",
              "      <th>bikesInUsage</th>\n",
              "      <th>electricalBikesInUsage</th>\n",
              "      <th>mechanicalBikesInUsage</th>\n",
              "      <th>dateTime</th>\n",
              "      <th>structuredDateTime</th>\n",
              "      <th>date</th>\n",
              "      <th>weekday</th>\n",
              "      <th>year</th>\n",
              "      <th>month</th>\n",
              "      <th>day</th>\n",
              "      <th>time</th>\n",
              "      <th>hour</th>\n",
              "      <th>minute</th>\n",
              "      <th>second</th>\n",
              "    </tr>\n",
              "  </thead>\n",
              "  <tbody>\n",
              "    <tr>\n",
              "      <th>0</th>\n",
              "      <td>0</td>\n",
              "      <td>50</td>\n",
              "      <td>0</td>\n",
              "      <td>50</td>\n",
              "      <td>2019-01-01 00:00:11</td>\n",
              "      <td>2019-01-01 00:00:11</td>\n",
              "      <td>2019-01-01</td>\n",
              "      <td>Tuesday</td>\n",
              "      <td>2019</td>\n",
              "      <td>1</td>\n",
              "      <td>1</td>\n",
              "      <td>00:00:11</td>\n",
              "      <td>0</td>\n",
              "      <td>0</td>\n",
              "      <td>11</td>\n",
              "    </tr>\n",
              "    <tr>\n",
              "      <th>1</th>\n",
              "      <td>0</td>\n",
              "      <td>47</td>\n",
              "      <td>0</td>\n",
              "      <td>47</td>\n",
              "      <td>2019-01-01 00:05:12</td>\n",
              "      <td>2019-01-01 00:05:12</td>\n",
              "      <td>2019-01-01</td>\n",
              "      <td>Tuesday</td>\n",
              "      <td>2019</td>\n",
              "      <td>1</td>\n",
              "      <td>1</td>\n",
              "      <td>00:05:12</td>\n",
              "      <td>0</td>\n",
              "      <td>5</td>\n",
              "      <td>12</td>\n",
              "    </tr>\n",
              "    <tr>\n",
              "      <th>2</th>\n",
              "      <td>0</td>\n",
              "      <td>50</td>\n",
              "      <td>0</td>\n",
              "      <td>50</td>\n",
              "      <td>2019-01-01 00:10:12</td>\n",
              "      <td>2019-01-01 00:10:12</td>\n",
              "      <td>2019-01-01</td>\n",
              "      <td>Tuesday</td>\n",
              "      <td>2019</td>\n",
              "      <td>1</td>\n",
              "      <td>1</td>\n",
              "      <td>00:10:12</td>\n",
              "      <td>0</td>\n",
              "      <td>10</td>\n",
              "      <td>12</td>\n",
              "    </tr>\n",
              "    <tr>\n",
              "      <th>3</th>\n",
              "      <td>0</td>\n",
              "      <td>76</td>\n",
              "      <td>0</td>\n",
              "      <td>76</td>\n",
              "      <td>2019-01-01 00:15:12</td>\n",
              "      <td>2019-01-01 00:15:12</td>\n",
              "      <td>2019-01-01</td>\n",
              "      <td>Tuesday</td>\n",
              "      <td>2019</td>\n",
              "      <td>1</td>\n",
              "      <td>1</td>\n",
              "      <td>00:15:12</td>\n",
              "      <td>0</td>\n",
              "      <td>15</td>\n",
              "      <td>12</td>\n",
              "    </tr>\n",
              "    <tr>\n",
              "      <th>4</th>\n",
              "      <td>0</td>\n",
              "      <td>119</td>\n",
              "      <td>0</td>\n",
              "      <td>119</td>\n",
              "      <td>2019-01-01 00:20:12</td>\n",
              "      <td>2019-01-01 00:20:12</td>\n",
              "      <td>2019-01-01</td>\n",
              "      <td>Tuesday</td>\n",
              "      <td>2019</td>\n",
              "      <td>1</td>\n",
              "      <td>1</td>\n",
              "      <td>00:20:12</td>\n",
              "      <td>0</td>\n",
              "      <td>20</td>\n",
              "      <td>12</td>\n",
              "    </tr>\n",
              "  </tbody>\n",
              "</table>\n",
              "</div>"
            ],
            "text/plain": [
              "   error  bikesInUsage  electricalBikesInUsage  ...  hour minute second\n",
              "0      0            50                       0  ...     0      0     11\n",
              "1      0            47                       0  ...     0      5     12\n",
              "2      0            50                       0  ...     0     10     12\n",
              "3      0            76                       0  ...     0     15     12\n",
              "4      0           119                       0  ...     0     20     12\n",
              "\n",
              "[5 rows x 15 columns]"
            ]
          },
          "metadata": {
            "tags": []
          },
          "execution_count": 32
        }
      ]
    },
    {
      "cell_type": "code",
      "metadata": {
        "colab": {
          "base_uri": "https://localhost:8080/",
          "height": 779
        },
        "id": "JhkNSElPYVut",
        "outputId": "0828213a-e5f7-491c-870e-3812d277a241"
      },
      "source": [
        "bikes.sort_values(by=['structuredDateTime']).reset_index()\n",
        "bikes['timeSinceLastCount'] = bikes['structuredDateTime'].diff()\n",
        "bikes"
      ],
      "execution_count": 33,
      "outputs": [
        {
          "output_type": "execute_result",
          "data": {
            "text/html": [
              "<div>\n",
              "<style scoped>\n",
              "    .dataframe tbody tr th:only-of-type {\n",
              "        vertical-align: middle;\n",
              "    }\n",
              "\n",
              "    .dataframe tbody tr th {\n",
              "        vertical-align: top;\n",
              "    }\n",
              "\n",
              "    .dataframe thead th {\n",
              "        text-align: right;\n",
              "    }\n",
              "</style>\n",
              "<table border=\"1\" class=\"dataframe\">\n",
              "  <thead>\n",
              "    <tr style=\"text-align: right;\">\n",
              "      <th></th>\n",
              "      <th>error</th>\n",
              "      <th>bikesInUsage</th>\n",
              "      <th>electricalBikesInUsage</th>\n",
              "      <th>mechanicalBikesInUsage</th>\n",
              "      <th>dateTime</th>\n",
              "      <th>structuredDateTime</th>\n",
              "      <th>date</th>\n",
              "      <th>weekday</th>\n",
              "      <th>year</th>\n",
              "      <th>month</th>\n",
              "      <th>day</th>\n",
              "      <th>time</th>\n",
              "      <th>hour</th>\n",
              "      <th>minute</th>\n",
              "      <th>second</th>\n",
              "      <th>timeSinceLastCount</th>\n",
              "    </tr>\n",
              "  </thead>\n",
              "  <tbody>\n",
              "    <tr>\n",
              "      <th>0</th>\n",
              "      <td>0</td>\n",
              "      <td>50</td>\n",
              "      <td>0</td>\n",
              "      <td>50</td>\n",
              "      <td>2019-01-01 00:00:11</td>\n",
              "      <td>2019-01-01 00:00:11</td>\n",
              "      <td>2019-01-01</td>\n",
              "      <td>Tuesday</td>\n",
              "      <td>2019</td>\n",
              "      <td>1</td>\n",
              "      <td>1</td>\n",
              "      <td>00:00:11</td>\n",
              "      <td>0</td>\n",
              "      <td>0</td>\n",
              "      <td>11</td>\n",
              "      <td>NaT</td>\n",
              "    </tr>\n",
              "    <tr>\n",
              "      <th>1</th>\n",
              "      <td>0</td>\n",
              "      <td>47</td>\n",
              "      <td>0</td>\n",
              "      <td>47</td>\n",
              "      <td>2019-01-01 00:05:12</td>\n",
              "      <td>2019-01-01 00:05:12</td>\n",
              "      <td>2019-01-01</td>\n",
              "      <td>Tuesday</td>\n",
              "      <td>2019</td>\n",
              "      <td>1</td>\n",
              "      <td>1</td>\n",
              "      <td>00:05:12</td>\n",
              "      <td>0</td>\n",
              "      <td>5</td>\n",
              "      <td>12</td>\n",
              "      <td>0 days 00:05:01</td>\n",
              "    </tr>\n",
              "    <tr>\n",
              "      <th>2</th>\n",
              "      <td>0</td>\n",
              "      <td>50</td>\n",
              "      <td>0</td>\n",
              "      <td>50</td>\n",
              "      <td>2019-01-01 00:10:12</td>\n",
              "      <td>2019-01-01 00:10:12</td>\n",
              "      <td>2019-01-01</td>\n",
              "      <td>Tuesday</td>\n",
              "      <td>2019</td>\n",
              "      <td>1</td>\n",
              "      <td>1</td>\n",
              "      <td>00:10:12</td>\n",
              "      <td>0</td>\n",
              "      <td>10</td>\n",
              "      <td>12</td>\n",
              "      <td>0 days 00:05:00</td>\n",
              "    </tr>\n",
              "    <tr>\n",
              "      <th>3</th>\n",
              "      <td>0</td>\n",
              "      <td>76</td>\n",
              "      <td>0</td>\n",
              "      <td>76</td>\n",
              "      <td>2019-01-01 00:15:12</td>\n",
              "      <td>2019-01-01 00:15:12</td>\n",
              "      <td>2019-01-01</td>\n",
              "      <td>Tuesday</td>\n",
              "      <td>2019</td>\n",
              "      <td>1</td>\n",
              "      <td>1</td>\n",
              "      <td>00:15:12</td>\n",
              "      <td>0</td>\n",
              "      <td>15</td>\n",
              "      <td>12</td>\n",
              "      <td>0 days 00:05:00</td>\n",
              "    </tr>\n",
              "    <tr>\n",
              "      <th>4</th>\n",
              "      <td>0</td>\n",
              "      <td>119</td>\n",
              "      <td>0</td>\n",
              "      <td>119</td>\n",
              "      <td>2019-01-01 00:20:12</td>\n",
              "      <td>2019-01-01 00:20:12</td>\n",
              "      <td>2019-01-01</td>\n",
              "      <td>Tuesday</td>\n",
              "      <td>2019</td>\n",
              "      <td>1</td>\n",
              "      <td>1</td>\n",
              "      <td>00:20:12</td>\n",
              "      <td>0</td>\n",
              "      <td>20</td>\n",
              "      <td>12</td>\n",
              "      <td>0 days 00:05:00</td>\n",
              "    </tr>\n",
              "    <tr>\n",
              "      <th>...</th>\n",
              "      <td>...</td>\n",
              "      <td>...</td>\n",
              "      <td>...</td>\n",
              "      <td>...</td>\n",
              "      <td>...</td>\n",
              "      <td>...</td>\n",
              "      <td>...</td>\n",
              "      <td>...</td>\n",
              "      <td>...</td>\n",
              "      <td>...</td>\n",
              "      <td>...</td>\n",
              "      <td>...</td>\n",
              "      <td>...</td>\n",
              "      <td>...</td>\n",
              "      <td>...</td>\n",
              "      <td>...</td>\n",
              "    </tr>\n",
              "    <tr>\n",
              "      <th>8050</th>\n",
              "      <td>0</td>\n",
              "      <td>156</td>\n",
              "      <td>2</td>\n",
              "      <td>154</td>\n",
              "      <td>2019-01-31 23:35:00</td>\n",
              "      <td>2019-01-31 23:35:00</td>\n",
              "      <td>2019-01-31</td>\n",
              "      <td>Thursday</td>\n",
              "      <td>2019</td>\n",
              "      <td>1</td>\n",
              "      <td>31</td>\n",
              "      <td>23:35:00</td>\n",
              "      <td>23</td>\n",
              "      <td>35</td>\n",
              "      <td>0</td>\n",
              "      <td>0 days 00:05:01</td>\n",
              "    </tr>\n",
              "    <tr>\n",
              "      <th>8051</th>\n",
              "      <td>0</td>\n",
              "      <td>147</td>\n",
              "      <td>2</td>\n",
              "      <td>145</td>\n",
              "      <td>2019-01-31 23:40:00</td>\n",
              "      <td>2019-01-31 23:40:00</td>\n",
              "      <td>2019-01-31</td>\n",
              "      <td>Thursday</td>\n",
              "      <td>2019</td>\n",
              "      <td>1</td>\n",
              "      <td>31</td>\n",
              "      <td>23:40:00</td>\n",
              "      <td>23</td>\n",
              "      <td>40</td>\n",
              "      <td>0</td>\n",
              "      <td>0 days 00:05:00</td>\n",
              "    </tr>\n",
              "    <tr>\n",
              "      <th>8052</th>\n",
              "      <td>0</td>\n",
              "      <td>138</td>\n",
              "      <td>2</td>\n",
              "      <td>136</td>\n",
              "      <td>2019-01-31 23:45:00</td>\n",
              "      <td>2019-01-31 23:45:00</td>\n",
              "      <td>2019-01-31</td>\n",
              "      <td>Thursday</td>\n",
              "      <td>2019</td>\n",
              "      <td>1</td>\n",
              "      <td>31</td>\n",
              "      <td>23:45:00</td>\n",
              "      <td>23</td>\n",
              "      <td>45</td>\n",
              "      <td>0</td>\n",
              "      <td>0 days 00:05:00</td>\n",
              "    </tr>\n",
              "    <tr>\n",
              "      <th>8053</th>\n",
              "      <td>0</td>\n",
              "      <td>130</td>\n",
              "      <td>1</td>\n",
              "      <td>129</td>\n",
              "      <td>2019-01-31 23:49:59</td>\n",
              "      <td>2019-01-31 23:49:59</td>\n",
              "      <td>2019-01-31</td>\n",
              "      <td>Thursday</td>\n",
              "      <td>2019</td>\n",
              "      <td>1</td>\n",
              "      <td>31</td>\n",
              "      <td>23:49:59</td>\n",
              "      <td>23</td>\n",
              "      <td>49</td>\n",
              "      <td>59</td>\n",
              "      <td>0 days 00:04:59</td>\n",
              "    </tr>\n",
              "    <tr>\n",
              "      <th>8054</th>\n",
              "      <td>0</td>\n",
              "      <td>140</td>\n",
              "      <td>0</td>\n",
              "      <td>140</td>\n",
              "      <td>2019-01-31 23:54:59</td>\n",
              "      <td>2019-01-31 23:54:59</td>\n",
              "      <td>2019-01-31</td>\n",
              "      <td>Thursday</td>\n",
              "      <td>2019</td>\n",
              "      <td>1</td>\n",
              "      <td>31</td>\n",
              "      <td>23:54:59</td>\n",
              "      <td>23</td>\n",
              "      <td>54</td>\n",
              "      <td>59</td>\n",
              "      <td>0 days 00:05:00</td>\n",
              "    </tr>\n",
              "  </tbody>\n",
              "</table>\n",
              "<p>8055 rows × 16 columns</p>\n",
              "</div>"
            ],
            "text/plain": [
              "      error  bikesInUsage  ...  second  timeSinceLastCount\n",
              "0         0            50  ...      11                 NaT\n",
              "1         0            47  ...      12     0 days 00:05:01\n",
              "2         0            50  ...      12     0 days 00:05:00\n",
              "3         0            76  ...      12     0 days 00:05:00\n",
              "4         0           119  ...      12     0 days 00:05:00\n",
              "...     ...           ...  ...     ...                 ...\n",
              "8050      0           156  ...       0     0 days 00:05:01\n",
              "8051      0           147  ...       0     0 days 00:05:00\n",
              "8052      0           138  ...       0     0 days 00:05:00\n",
              "8053      0           130  ...      59     0 days 00:04:59\n",
              "8054      0           140  ...      59     0 days 00:05:00\n",
              "\n",
              "[8055 rows x 16 columns]"
            ]
          },
          "metadata": {
            "tags": []
          },
          "execution_count": 33
        }
      ]
    },
    {
      "cell_type": "code",
      "metadata": {
        "colab": {
          "base_uri": "https://localhost:8080/",
          "height": 394
        },
        "id": "F0JxufYGYXPI",
        "outputId": "f831f3b1-afcd-49da-e439-85f1f49148a1"
      },
      "source": [
        "# Find gaps in the data by getting the longest timestamps' difference\n",
        "bikes.sort_values(by=['timeSinceLastCount'], ascending=False).head()"
      ],
      "execution_count": 34,
      "outputs": [
        {
          "output_type": "execute_result",
          "data": {
            "text/html": [
              "<div>\n",
              "<style scoped>\n",
              "    .dataframe tbody tr th:only-of-type {\n",
              "        vertical-align: middle;\n",
              "    }\n",
              "\n",
              "    .dataframe tbody tr th {\n",
              "        vertical-align: top;\n",
              "    }\n",
              "\n",
              "    .dataframe thead th {\n",
              "        text-align: right;\n",
              "    }\n",
              "</style>\n",
              "<table border=\"1\" class=\"dataframe\">\n",
              "  <thead>\n",
              "    <tr style=\"text-align: right;\">\n",
              "      <th></th>\n",
              "      <th>error</th>\n",
              "      <th>bikesInUsage</th>\n",
              "      <th>electricalBikesInUsage</th>\n",
              "      <th>mechanicalBikesInUsage</th>\n",
              "      <th>dateTime</th>\n",
              "      <th>structuredDateTime</th>\n",
              "      <th>date</th>\n",
              "      <th>weekday</th>\n",
              "      <th>year</th>\n",
              "      <th>month</th>\n",
              "      <th>day</th>\n",
              "      <th>time</th>\n",
              "      <th>hour</th>\n",
              "      <th>minute</th>\n",
              "      <th>second</th>\n",
              "      <th>timeSinceLastCount</th>\n",
              "    </tr>\n",
              "  </thead>\n",
              "  <tbody>\n",
              "    <tr>\n",
              "      <th>2157</th>\n",
              "      <td>0</td>\n",
              "      <td>488</td>\n",
              "      <td>4</td>\n",
              "      <td>484</td>\n",
              "      <td>2019-01-10 15:55:15</td>\n",
              "      <td>2019-01-10 15:55:15</td>\n",
              "      <td>2019-01-10</td>\n",
              "      <td>Thursday</td>\n",
              "      <td>2019</td>\n",
              "      <td>1</td>\n",
              "      <td>10</td>\n",
              "      <td>15:55:15</td>\n",
              "      <td>15</td>\n",
              "      <td>55</td>\n",
              "      <td>15</td>\n",
              "      <td>2 days 04:15:00</td>\n",
              "    </tr>\n",
              "    <tr>\n",
              "      <th>2159</th>\n",
              "      <td>0</td>\n",
              "      <td>293</td>\n",
              "      <td>0</td>\n",
              "      <td>293</td>\n",
              "      <td>2019-01-11 12:30:15</td>\n",
              "      <td>2019-01-11 12:30:15</td>\n",
              "      <td>2019-01-11</td>\n",
              "      <td>Friday</td>\n",
              "      <td>2019</td>\n",
              "      <td>1</td>\n",
              "      <td>11</td>\n",
              "      <td>12:30:15</td>\n",
              "      <td>12</td>\n",
              "      <td>30</td>\n",
              "      <td>15</td>\n",
              "      <td>0 days 20:30:00</td>\n",
              "    </tr>\n",
              "    <tr>\n",
              "      <th>2615</th>\n",
              "      <td>0</td>\n",
              "      <td>81</td>\n",
              "      <td>0</td>\n",
              "      <td>81</td>\n",
              "      <td>2019-01-13 02:40:17</td>\n",
              "      <td>2019-01-13 02:40:17</td>\n",
              "      <td>2019-01-13</td>\n",
              "      <td>Sunday</td>\n",
              "      <td>2019</td>\n",
              "      <td>1</td>\n",
              "      <td>13</td>\n",
              "      <td>02:40:17</td>\n",
              "      <td>2</td>\n",
              "      <td>40</td>\n",
              "      <td>17</td>\n",
              "      <td>0 days 00:10:02</td>\n",
              "    </tr>\n",
              "    <tr>\n",
              "      <th>2160</th>\n",
              "      <td>0</td>\n",
              "      <td>319</td>\n",
              "      <td>1</td>\n",
              "      <td>318</td>\n",
              "      <td>2019-01-11 12:40:15</td>\n",
              "      <td>2019-01-11 12:40:15</td>\n",
              "      <td>2019-01-11</td>\n",
              "      <td>Friday</td>\n",
              "      <td>2019</td>\n",
              "      <td>1</td>\n",
              "      <td>11</td>\n",
              "      <td>12:40:15</td>\n",
              "      <td>12</td>\n",
              "      <td>40</td>\n",
              "      <td>15</td>\n",
              "      <td>0 days 00:10:00</td>\n",
              "    </tr>\n",
              "    <tr>\n",
              "      <th>1782</th>\n",
              "      <td>0</td>\n",
              "      <td>8</td>\n",
              "      <td>0</td>\n",
              "      <td>8</td>\n",
              "      <td>2019-01-07 04:34:16</td>\n",
              "      <td>2019-01-07 04:34:16</td>\n",
              "      <td>2019-01-07</td>\n",
              "      <td>Monday</td>\n",
              "      <td>2019</td>\n",
              "      <td>1</td>\n",
              "      <td>7</td>\n",
              "      <td>04:34:16</td>\n",
              "      <td>4</td>\n",
              "      <td>34</td>\n",
              "      <td>16</td>\n",
              "      <td>0 days 00:09:04</td>\n",
              "    </tr>\n",
              "  </tbody>\n",
              "</table>\n",
              "</div>"
            ],
            "text/plain": [
              "      error  bikesInUsage  ...  second  timeSinceLastCount\n",
              "2157      0           488  ...      15     2 days 04:15:00\n",
              "2159      0           293  ...      15     0 days 20:30:00\n",
              "2615      0            81  ...      17     0 days 00:10:02\n",
              "2160      0           319  ...      15     0 days 00:10:00\n",
              "1782      0             8  ...      16     0 days 00:09:04\n",
              "\n",
              "[5 rows x 16 columns]"
            ]
          },
          "metadata": {
            "tags": []
          },
          "execution_count": 34
        }
      ]
    },
    {
      "cell_type": "code",
      "metadata": {
        "id": "teveXcxpYZNt"
      },
      "source": [
        ""
      ],
      "execution_count": 34,
      "outputs": []
    },
    {
      "cell_type": "markdown",
      "metadata": {
        "id": "Q1M-jXMAYbw_"
      },
      "source": [
        "### Findings\n",
        "We found out that there is no data in 2 large periods: \n",
        "*   2 days and 4 hours --> from January 8th at 11:40:15 to Jan 10th at 15:55:15\n",
        "*   20 hours --> from January 10th at 16:00:15 to Jan 11th at 12:30:*15*"
      ]
    },
    {
      "cell_type": "code",
      "metadata": {
        "colab": {
          "base_uri": "https://localhost:8080/",
          "height": 199
        },
        "id": "pOA9IQkaYks8",
        "outputId": "af58f5fb-c639-4f23-c270-fd4335b9aef6"
      },
      "source": [
        "bikes[bikes['day']==10]"
      ],
      "execution_count": 35,
      "outputs": [
        {
          "output_type": "execute_result",
          "data": {
            "text/html": [
              "<div>\n",
              "<style scoped>\n",
              "    .dataframe tbody tr th:only-of-type {\n",
              "        vertical-align: middle;\n",
              "    }\n",
              "\n",
              "    .dataframe tbody tr th {\n",
              "        vertical-align: top;\n",
              "    }\n",
              "\n",
              "    .dataframe thead th {\n",
              "        text-align: right;\n",
              "    }\n",
              "</style>\n",
              "<table border=\"1\" class=\"dataframe\">\n",
              "  <thead>\n",
              "    <tr style=\"text-align: right;\">\n",
              "      <th></th>\n",
              "      <th>error</th>\n",
              "      <th>bikesInUsage</th>\n",
              "      <th>electricalBikesInUsage</th>\n",
              "      <th>mechanicalBikesInUsage</th>\n",
              "      <th>dateTime</th>\n",
              "      <th>structuredDateTime</th>\n",
              "      <th>date</th>\n",
              "      <th>weekday</th>\n",
              "      <th>year</th>\n",
              "      <th>month</th>\n",
              "      <th>day</th>\n",
              "      <th>time</th>\n",
              "      <th>hour</th>\n",
              "      <th>minute</th>\n",
              "      <th>second</th>\n",
              "      <th>timeSinceLastCount</th>\n",
              "    </tr>\n",
              "  </thead>\n",
              "  <tbody>\n",
              "    <tr>\n",
              "      <th>2157</th>\n",
              "      <td>0</td>\n",
              "      <td>488</td>\n",
              "      <td>4</td>\n",
              "      <td>484</td>\n",
              "      <td>2019-01-10 15:55:15</td>\n",
              "      <td>2019-01-10 15:55:15</td>\n",
              "      <td>2019-01-10</td>\n",
              "      <td>Thursday</td>\n",
              "      <td>2019</td>\n",
              "      <td>1</td>\n",
              "      <td>10</td>\n",
              "      <td>15:55:15</td>\n",
              "      <td>15</td>\n",
              "      <td>55</td>\n",
              "      <td>15</td>\n",
              "      <td>2 days 04:15:00</td>\n",
              "    </tr>\n",
              "    <tr>\n",
              "      <th>2158</th>\n",
              "      <td>0</td>\n",
              "      <td>448</td>\n",
              "      <td>3</td>\n",
              "      <td>445</td>\n",
              "      <td>2019-01-10 16:00:15</td>\n",
              "      <td>2019-01-10 16:00:15</td>\n",
              "      <td>2019-01-10</td>\n",
              "      <td>Thursday</td>\n",
              "      <td>2019</td>\n",
              "      <td>1</td>\n",
              "      <td>10</td>\n",
              "      <td>16:00:15</td>\n",
              "      <td>16</td>\n",
              "      <td>0</td>\n",
              "      <td>15</td>\n",
              "      <td>0 days 00:05:00</td>\n",
              "    </tr>\n",
              "  </tbody>\n",
              "</table>\n",
              "</div>"
            ],
            "text/plain": [
              "      error  bikesInUsage  ...  second  timeSinceLastCount\n",
              "2157      0           488  ...      15     2 days 04:15:00\n",
              "2158      0           448  ...      15     0 days 00:05:00\n",
              "\n",
              "[2 rows x 16 columns]"
            ]
          },
          "metadata": {
            "tags": []
          },
          "execution_count": 35
        }
      ]
    },
    {
      "cell_type": "code",
      "metadata": {
        "id": "6k66Bo17YpYZ"
      },
      "source": [
        ""
      ],
      "execution_count": 35,
      "outputs": []
    },
    {
      "cell_type": "markdown",
      "metadata": {
        "id": "h7NqtIOrYrA_"
      },
      "source": [
        "# Visualisations"
      ]
    },
    {
      "cell_type": "code",
      "metadata": {
        "colab": {
          "base_uri": "https://localhost:8080/"
        },
        "id": "sWXQXaENYt2F",
        "outputId": "ffc5e40b-b76c-45f8-c264-936be5e8360d"
      },
      "source": [
        "import matplotlib.pyplot as plt\n",
        "import seaborn as sns\n",
        "\n",
        "# Get current size\n",
        "fig_size = plt.rcParams[\"figure.figsize\"]\n",
        "\n",
        "# Prints: [6.0, 4.0]\n",
        "print(\"Current size:\", fig_size)\n",
        "\n",
        "# Set figure width to 20 and height to 9\n",
        "fig_size[0] = 20\n",
        "fig_size[1] = 9\n",
        "plt.rcParams[\"figure.figsize\"] = fig_size\n",
        "print(\"Current size:\", fig_size)"
      ],
      "execution_count": 36,
      "outputs": [
        {
          "output_type": "stream",
          "text": [
            "Current size: [20.0, 9.0]\n",
            "Current size: [20, 9]\n"
          ],
          "name": "stdout"
        }
      ]
    },
    {
      "cell_type": "code",
      "metadata": {
        "colab": {
          "base_uri": "https://localhost:8080/",
          "height": 399
        },
        "id": "jQWWIb8FYvuj",
        "outputId": "4ed34504-af0c-4a18-b97c-ce1a09192475"
      },
      "source": [
        "sns.scatterplot(x=bikes.hour, y=bikes.bikesInUsage, hue=bikes.weekday)\n",
        "plt.show()"
      ],
      "execution_count": 37,
      "outputs": [
        {
          "output_type": "display_data",
          "data": {
            "image/png": "[encoded data removed]",
            "text/plain": [
              "<Figure size 1440x648 with 1 Axes>"
            ]
          },
          "metadata": {
            "tags": [],
            "needs_background": "light"
          }
        }
      ]
    },
    {
      "cell_type": "code",
      "metadata": {
        "id": "AUF9_qfjY5Ke"
      },
      "source": [
        ""
      ],
      "execution_count": 37,
      "outputs": []
    }
  ]
}